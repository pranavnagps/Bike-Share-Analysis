{
 "cells": [
  {
   "cell_type": "markdown",
   "id": "83c954e6",
   "metadata": {},
   "source": [
    "# Bike Share Analysis\n",
    "## Google Data Analytics Certification's Capstone Project\n",
    "\n",
    "### The scenario - \n",
    "- Divvy, a bike-share company in Chicago has two types of users\n",
    "    - casual riders (single ride/ day pass holders)\n",
    "    - member rider (annual membership holders)\n",
    "    \n",
    "    \n",
    "- The company believes that the key to increasing its profits lies in converting more casual riders to annual riders\n",
    "- The marketing team plans to launch a targeted campaign comprising of new offers/ packages to achieve the same\n",
    "- To do so effectively, it is crucial to first, understand the usage trends of both groups in more depth\n",
    "\n",
    "#### I went ahead and did some preliminary analysis of the company's existing user plans from its [website](https://divvybikes.com/pricing) - \n",
    "#### For single rides - \n",
    "| Single Pass | Classic Bike | E-Bike | Scooter |\n",
    "| :-: | :-: | :-: | :-: |\n",
    "| **Unlock** | \\$1 | \\$1 | \\$1 |\n",
    "| **Per Min** | \\$0.16 | \\$0.39 | \\$0.39 |\n",
    "\n",
    "#### For day pass holders, at a one-time cost of \\$15 -\n",
    "| Day Pass | All Bikes |\n",
    "| :-: | :-: |\n",
    "| **Unlock** | \\$15 |\n",
    "| **Per Min** | \\$0.16 beyond 3 hours on one bike |\n",
    "\n",
    "\n",
    "#### For members, at a monthly cost of \\$9.92 -\n",
    "| Single Pass | Classic Bike | E-Bike | Scooter |\n",
    "| :-: | :-: | :-: | :-: |\n",
    "| **Unlock** | \\$1 | \\$1 | \\$1 |\n",
    "| **Per Min** | \\$0.16 beyond 45 mins on one bike | \\$0.16 | \\$0.25 |\n",
    "\n",
    "#### Placing ourselves in the shoes of the marketing team for a moment, what kind of insights would be relevant to the campaign's launch?\n",
    "The 'when', 'where' and 'how' would play an important role\n",
    "- When to launch the new campaign?\n",
    "    - Month-wise usage trends of both types of riders would show when user frequency peaks during the year\n",
    "    - The campaign can then be launched in the months leading up to and during the busy season\n",
    "    \n",
    "    \n",
    "- Where to advertise the new offers?\n",
    "    - The most popular start stations through the year would reach the most number of eyeballs\n",
    "    - This will help in lowering the cost per click\n",
    "    \n",
    "    \n",
    "- How to reach the customers who are most likely to make the switch?\n",
    "    - Based on the existing user plans, customers who repeatedly spend more than \\$9.92 in a month would definitely benefit from the annual membership\n",
    "    - Targeting the most popular start stations with high average ride costs would help reach such customers \n",
    "    \n",
    "*(I chose start stations rather than end stations because a customer is more likely to spend more time at a start station looking for a bike, unlocking it from the app and then setting off as compared to at an end station where customers are more likely to drop off their bikes in a hurry)*"
   ]
  },
  {
   "cell_type": "markdown",
   "id": "9659d2a3",
   "metadata": {},
   "source": [
    "### Package Imports:"
   ]
  },
  {
   "cell_type": "code",
   "execution_count": 1,
   "id": "adff0b8d",
   "metadata": {},
   "outputs": [],
   "source": [
    "import matplotlib\n",
    "import matplotlib.pyplot as plt\n",
    "import pandas as pd\n",
    "import seaborn as sns\n",
    "import numpy as np"
   ]
  },
  {
   "cell_type": "markdown",
   "id": "a118b815",
   "metadata": {},
   "source": [
    "## DATA ACQUISITION\n",
    "### Importing all .csv files for the year 2021, containing each month's ride share data:"
   ]
  },
  {
   "cell_type": "code",
   "execution_count": 2,
   "id": "8b7ee63d",
   "metadata": {},
   "outputs": [],
   "source": [
    "df = pd.read_csv(r'E:\\Data Analytics\\Projects\\Google Certificate Capstone\\Project 1- Cyclistic Bike Share\\2021 Data\\202101-divvy-tripdata.csv')\n",
    "df_2 = pd.read_csv(r'E:\\Data Analytics\\Projects\\Google Certificate Capstone\\Project 1- Cyclistic Bike Share\\2021 Data\\202102-divvy-tripdata.csv')\n",
    "df_3 = pd.read_csv(r'E:\\Data Analytics\\Projects\\Google Certificate Capstone\\Project 1- Cyclistic Bike Share\\2021 Data\\202103-divvy-tripdata.csv')\n",
    "df_4 = pd.read_csv(r'E:\\Data Analytics\\Projects\\Google Certificate Capstone\\Project 1- Cyclistic Bike Share\\2021 Data\\202104-divvy-tripdata.csv')\n",
    "df_5 = pd.read_csv(r'E:\\Data Analytics\\Projects\\Google Certificate Capstone\\Project 1- Cyclistic Bike Share\\2021 Data\\202105-divvy-tripdata.csv')\n",
    "df_6 = pd.read_csv(r'E:\\Data Analytics\\Projects\\Google Certificate Capstone\\Project 1- Cyclistic Bike Share\\2021 Data\\202106-divvy-tripdata.csv')\n",
    "df_7 = pd.read_csv(r'E:\\Data Analytics\\Projects\\Google Certificate Capstone\\Project 1- Cyclistic Bike Share\\2021 Data\\202107-divvy-tripdata.csv')\n",
    "df_8 = pd.read_csv(r'E:\\Data Analytics\\Projects\\Google Certificate Capstone\\Project 1- Cyclistic Bike Share\\2021 Data\\202108-divvy-tripdata.csv')\n",
    "df_9 = pd.read_csv(r'E:\\Data Analytics\\Projects\\Google Certificate Capstone\\Project 1- Cyclistic Bike Share\\2021 Data\\202109-divvy-tripdata.csv')\n",
    "df_10 = pd.read_csv(r'E:\\Data Analytics\\Projects\\Google Certificate Capstone\\Project 1- Cyclistic Bike Share\\2021 Data\\202110-divvy-tripdata.csv')\n",
    "df_11 = pd.read_csv(r'E:\\Data Analytics\\Projects\\Google Certificate Capstone\\Project 1- Cyclistic Bike Share\\2021 Data\\202111-divvy-tripdata.csv')\n",
    "df_12 = pd.read_csv(r'E:\\Data Analytics\\Projects\\Google Certificate Capstone\\Project 1- Cyclistic Bike Share\\2021 Data\\202112-divvy-tripdata.csv')\n"
   ]
  },
  {
   "cell_type": "markdown",
   "id": "9207487c",
   "metadata": {},
   "source": [
    "### Concatenating them together to create a data frame for the entire year:"
   ]
  },
  {
   "cell_type": "code",
   "execution_count": 3,
   "id": "8801ff1f",
   "metadata": {},
   "outputs": [],
   "source": [
    "df = pd.concat([df, df_2, df_3, df_4, df_5, df_6, df_7, df_8, df_9, df_10, df_11, df_12], axis=0)\n"
   ]
  },
  {
   "cell_type": "markdown",
   "id": "c8ac936a",
   "metadata": {},
   "source": [
    "### Preview to check the fields and the date range for the first five records:"
   ]
  },
  {
   "cell_type": "code",
   "execution_count": 4,
   "id": "e9ac78bf",
   "metadata": {},
   "outputs": [
    {
     "data": {
      "text/html": [
       "<div>\n",
       "<style scoped>\n",
       "    .dataframe tbody tr th:only-of-type {\n",
       "        vertical-align: middle;\n",
       "    }\n",
       "\n",
       "    .dataframe tbody tr th {\n",
       "        vertical-align: top;\n",
       "    }\n",
       "\n",
       "    .dataframe thead th {\n",
       "        text-align: right;\n",
       "    }\n",
       "</style>\n",
       "<table border=\"1\" class=\"dataframe\">\n",
       "  <thead>\n",
       "    <tr style=\"text-align: right;\">\n",
       "      <th></th>\n",
       "      <th>ride_id</th>\n",
       "      <th>rideable_type</th>\n",
       "      <th>started_at</th>\n",
       "      <th>ended_at</th>\n",
       "      <th>start_station_name</th>\n",
       "      <th>start_station_id</th>\n",
       "      <th>end_station_name</th>\n",
       "      <th>end_station_id</th>\n",
       "      <th>start_lat</th>\n",
       "      <th>start_lng</th>\n",
       "      <th>end_lat</th>\n",
       "      <th>end_lng</th>\n",
       "      <th>member_casual</th>\n",
       "    </tr>\n",
       "  </thead>\n",
       "  <tbody>\n",
       "    <tr>\n",
       "      <th>0</th>\n",
       "      <td>E19E6F1B8D4C42ED</td>\n",
       "      <td>electric_bike</td>\n",
       "      <td>2021-01-23 16:14:19</td>\n",
       "      <td>2021-01-23 16:24:44</td>\n",
       "      <td>California Ave &amp; Cortez St</td>\n",
       "      <td>17660</td>\n",
       "      <td>NaN</td>\n",
       "      <td>NaN</td>\n",
       "      <td>41.900341</td>\n",
       "      <td>-87.696743</td>\n",
       "      <td>41.89</td>\n",
       "      <td>-87.72</td>\n",
       "      <td>member</td>\n",
       "    </tr>\n",
       "    <tr>\n",
       "      <th>1</th>\n",
       "      <td>DC88F20C2C55F27F</td>\n",
       "      <td>electric_bike</td>\n",
       "      <td>2021-01-27 18:43:08</td>\n",
       "      <td>2021-01-27 18:47:12</td>\n",
       "      <td>California Ave &amp; Cortez St</td>\n",
       "      <td>17660</td>\n",
       "      <td>NaN</td>\n",
       "      <td>NaN</td>\n",
       "      <td>41.900333</td>\n",
       "      <td>-87.696707</td>\n",
       "      <td>41.90</td>\n",
       "      <td>-87.69</td>\n",
       "      <td>member</td>\n",
       "    </tr>\n",
       "    <tr>\n",
       "      <th>2</th>\n",
       "      <td>EC45C94683FE3F27</td>\n",
       "      <td>electric_bike</td>\n",
       "      <td>2021-01-21 22:35:54</td>\n",
       "      <td>2021-01-21 22:37:14</td>\n",
       "      <td>California Ave &amp; Cortez St</td>\n",
       "      <td>17660</td>\n",
       "      <td>NaN</td>\n",
       "      <td>NaN</td>\n",
       "      <td>41.900313</td>\n",
       "      <td>-87.696643</td>\n",
       "      <td>41.90</td>\n",
       "      <td>-87.70</td>\n",
       "      <td>member</td>\n",
       "    </tr>\n",
       "    <tr>\n",
       "      <th>3</th>\n",
       "      <td>4FA453A75AE377DB</td>\n",
       "      <td>electric_bike</td>\n",
       "      <td>2021-01-07 13:31:13</td>\n",
       "      <td>2021-01-07 13:42:55</td>\n",
       "      <td>California Ave &amp; Cortez St</td>\n",
       "      <td>17660</td>\n",
       "      <td>NaN</td>\n",
       "      <td>NaN</td>\n",
       "      <td>41.900399</td>\n",
       "      <td>-87.696662</td>\n",
       "      <td>41.92</td>\n",
       "      <td>-87.69</td>\n",
       "      <td>member</td>\n",
       "    </tr>\n",
       "    <tr>\n",
       "      <th>4</th>\n",
       "      <td>BE5E8EB4E7263A0B</td>\n",
       "      <td>electric_bike</td>\n",
       "      <td>2021-01-23 02:24:02</td>\n",
       "      <td>2021-01-23 02:24:45</td>\n",
       "      <td>California Ave &amp; Cortez St</td>\n",
       "      <td>17660</td>\n",
       "      <td>NaN</td>\n",
       "      <td>NaN</td>\n",
       "      <td>41.900326</td>\n",
       "      <td>-87.696697</td>\n",
       "      <td>41.90</td>\n",
       "      <td>-87.70</td>\n",
       "      <td>casual</td>\n",
       "    </tr>\n",
       "  </tbody>\n",
       "</table>\n",
       "</div>"
      ],
      "text/plain": [
       "            ride_id  rideable_type           started_at             ended_at  \\\n",
       "0  E19E6F1B8D4C42ED  electric_bike  2021-01-23 16:14:19  2021-01-23 16:24:44   \n",
       "1  DC88F20C2C55F27F  electric_bike  2021-01-27 18:43:08  2021-01-27 18:47:12   \n",
       "2  EC45C94683FE3F27  electric_bike  2021-01-21 22:35:54  2021-01-21 22:37:14   \n",
       "3  4FA453A75AE377DB  electric_bike  2021-01-07 13:31:13  2021-01-07 13:42:55   \n",
       "4  BE5E8EB4E7263A0B  electric_bike  2021-01-23 02:24:02  2021-01-23 02:24:45   \n",
       "\n",
       "           start_station_name start_station_id end_station_name  \\\n",
       "0  California Ave & Cortez St            17660              NaN   \n",
       "1  California Ave & Cortez St            17660              NaN   \n",
       "2  California Ave & Cortez St            17660              NaN   \n",
       "3  California Ave & Cortez St            17660              NaN   \n",
       "4  California Ave & Cortez St            17660              NaN   \n",
       "\n",
       "  end_station_id  start_lat  start_lng  end_lat  end_lng member_casual  \n",
       "0            NaN  41.900341 -87.696743    41.89   -87.72        member  \n",
       "1            NaN  41.900333 -87.696707    41.90   -87.69        member  \n",
       "2            NaN  41.900313 -87.696643    41.90   -87.70        member  \n",
       "3            NaN  41.900399 -87.696662    41.92   -87.69        member  \n",
       "4            NaN  41.900326 -87.696697    41.90   -87.70        casual  "
      ]
     },
     "execution_count": 4,
     "metadata": {},
     "output_type": "execute_result"
    }
   ],
   "source": [
    "df.head()"
   ]
  },
  {
   "cell_type": "markdown",
   "id": "d7569bea",
   "metadata": {},
   "source": [
    "As each ride contains a unique ride ID rather than each user being assigned a unique user ID it is not possible to track an individual's usage patterns"
   ]
  },
  {
   "cell_type": "markdown",
   "id": "246589da",
   "metadata": {},
   "source": [
    "### Ensuring the last five records belong to the month of December:"
   ]
  },
  {
   "cell_type": "code",
   "execution_count": 5,
   "id": "fd074faf",
   "metadata": {},
   "outputs": [
    {
     "data": {
      "text/html": [
       "<div>\n",
       "<style scoped>\n",
       "    .dataframe tbody tr th:only-of-type {\n",
       "        vertical-align: middle;\n",
       "    }\n",
       "\n",
       "    .dataframe tbody tr th {\n",
       "        vertical-align: top;\n",
       "    }\n",
       "\n",
       "    .dataframe thead th {\n",
       "        text-align: right;\n",
       "    }\n",
       "</style>\n",
       "<table border=\"1\" class=\"dataframe\">\n",
       "  <thead>\n",
       "    <tr style=\"text-align: right;\">\n",
       "      <th></th>\n",
       "      <th>ride_id</th>\n",
       "      <th>rideable_type</th>\n",
       "      <th>started_at</th>\n",
       "      <th>ended_at</th>\n",
       "      <th>start_station_name</th>\n",
       "      <th>start_station_id</th>\n",
       "      <th>end_station_name</th>\n",
       "      <th>end_station_id</th>\n",
       "      <th>start_lat</th>\n",
       "      <th>start_lng</th>\n",
       "      <th>end_lat</th>\n",
       "      <th>end_lng</th>\n",
       "      <th>member_casual</th>\n",
       "    </tr>\n",
       "  </thead>\n",
       "  <tbody>\n",
       "    <tr>\n",
       "      <th>247535</th>\n",
       "      <td>847431F3D5353AB7</td>\n",
       "      <td>electric_bike</td>\n",
       "      <td>2021-12-12 13:36:55</td>\n",
       "      <td>2021-12-12 13:56:08</td>\n",
       "      <td>Canal St &amp; Madison St</td>\n",
       "      <td>13341</td>\n",
       "      <td>NaN</td>\n",
       "      <td>NaN</td>\n",
       "      <td>41.882289</td>\n",
       "      <td>-87.639752</td>\n",
       "      <td>41.890000</td>\n",
       "      <td>-87.610000</td>\n",
       "      <td>casual</td>\n",
       "    </tr>\n",
       "    <tr>\n",
       "      <th>247536</th>\n",
       "      <td>CF407BBC3B9FAD63</td>\n",
       "      <td>electric_bike</td>\n",
       "      <td>2021-12-06 19:37:50</td>\n",
       "      <td>2021-12-06 19:44:51</td>\n",
       "      <td>Canal St &amp; Madison St</td>\n",
       "      <td>13341</td>\n",
       "      <td>Kingsbury St &amp; Kinzie St</td>\n",
       "      <td>KA1503000043</td>\n",
       "      <td>41.882123</td>\n",
       "      <td>-87.640053</td>\n",
       "      <td>41.889106</td>\n",
       "      <td>-87.638862</td>\n",
       "      <td>member</td>\n",
       "    </tr>\n",
       "    <tr>\n",
       "      <th>247537</th>\n",
       "      <td>60BB69EBF5440E92</td>\n",
       "      <td>electric_bike</td>\n",
       "      <td>2021-12-02 08:57:04</td>\n",
       "      <td>2021-12-02 09:05:21</td>\n",
       "      <td>Canal St &amp; Madison St</td>\n",
       "      <td>13341</td>\n",
       "      <td>Dearborn St &amp; Monroe St</td>\n",
       "      <td>TA1305000006</td>\n",
       "      <td>41.881956</td>\n",
       "      <td>-87.639955</td>\n",
       "      <td>41.880254</td>\n",
       "      <td>-87.629603</td>\n",
       "      <td>member</td>\n",
       "    </tr>\n",
       "    <tr>\n",
       "      <th>247538</th>\n",
       "      <td>C414F654A28635B8</td>\n",
       "      <td>electric_bike</td>\n",
       "      <td>2021-12-13 09:00:26</td>\n",
       "      <td>2021-12-13 09:14:39</td>\n",
       "      <td>Lawndale Ave &amp; 16th St</td>\n",
       "      <td>362.0</td>\n",
       "      <td>NaN</td>\n",
       "      <td>NaN</td>\n",
       "      <td>41.860000</td>\n",
       "      <td>-87.720000</td>\n",
       "      <td>41.850000</td>\n",
       "      <td>-87.710000</td>\n",
       "      <td>member</td>\n",
       "    </tr>\n",
       "    <tr>\n",
       "      <th>247539</th>\n",
       "      <td>37AC57E34B2E7E97</td>\n",
       "      <td>classic_bike</td>\n",
       "      <td>2021-12-13 08:45:32</td>\n",
       "      <td>2021-12-13 08:49:09</td>\n",
       "      <td>Michigan Ave &amp; Jackson Blvd</td>\n",
       "      <td>TA1309000002</td>\n",
       "      <td>Dearborn St &amp; Monroe St</td>\n",
       "      <td>TA1305000006</td>\n",
       "      <td>41.877850</td>\n",
       "      <td>-87.624080</td>\n",
       "      <td>41.881320</td>\n",
       "      <td>-87.629521</td>\n",
       "      <td>member</td>\n",
       "    </tr>\n",
       "  </tbody>\n",
       "</table>\n",
       "</div>"
      ],
      "text/plain": [
       "                 ride_id  rideable_type           started_at  \\\n",
       "247535  847431F3D5353AB7  electric_bike  2021-12-12 13:36:55   \n",
       "247536  CF407BBC3B9FAD63  electric_bike  2021-12-06 19:37:50   \n",
       "247537  60BB69EBF5440E92  electric_bike  2021-12-02 08:57:04   \n",
       "247538  C414F654A28635B8  electric_bike  2021-12-13 09:00:26   \n",
       "247539  37AC57E34B2E7E97   classic_bike  2021-12-13 08:45:32   \n",
       "\n",
       "                   ended_at           start_station_name start_station_id  \\\n",
       "247535  2021-12-12 13:56:08        Canal St & Madison St            13341   \n",
       "247536  2021-12-06 19:44:51        Canal St & Madison St            13341   \n",
       "247537  2021-12-02 09:05:21        Canal St & Madison St            13341   \n",
       "247538  2021-12-13 09:14:39       Lawndale Ave & 16th St            362.0   \n",
       "247539  2021-12-13 08:49:09  Michigan Ave & Jackson Blvd     TA1309000002   \n",
       "\n",
       "                end_station_name end_station_id  start_lat  start_lng  \\\n",
       "247535                       NaN            NaN  41.882289 -87.639752   \n",
       "247536  Kingsbury St & Kinzie St   KA1503000043  41.882123 -87.640053   \n",
       "247537   Dearborn St & Monroe St   TA1305000006  41.881956 -87.639955   \n",
       "247538                       NaN            NaN  41.860000 -87.720000   \n",
       "247539   Dearborn St & Monroe St   TA1305000006  41.877850 -87.624080   \n",
       "\n",
       "          end_lat    end_lng member_casual  \n",
       "247535  41.890000 -87.610000        casual  \n",
       "247536  41.889106 -87.638862        member  \n",
       "247537  41.880254 -87.629603        member  \n",
       "247538  41.850000 -87.710000        member  \n",
       "247539  41.881320 -87.629521        member  "
      ]
     },
     "execution_count": 5,
     "metadata": {},
     "output_type": "execute_result"
    }
   ],
   "source": [
    "df.tail()"
   ]
  },
  {
   "cell_type": "markdown",
   "id": "d3206f70",
   "metadata": {},
   "source": [
    " *We can already see a few NaN values showing up in the columns related to start and end stations, we will deal with these during the data cleaning process*"
   ]
  },
  {
   "cell_type": "markdown",
   "id": "fe6a9010",
   "metadata": {},
   "source": [
    "### Investigating the dimensions of the raw data frame:"
   ]
  },
  {
   "cell_type": "code",
   "execution_count": 6,
   "id": "705602b3",
   "metadata": {},
   "outputs": [
    {
     "name": "stdout",
     "output_type": "stream",
     "text": [
      "(5595063, 13)\n"
     ]
    }
   ],
   "source": [
    "shape = df.shape\n",
    "print(shape)"
   ]
  },
  {
   "cell_type": "markdown",
   "id": "2d94dac8",
   "metadata": {},
   "source": [
    " ## DATA CLEANING\n",
    " \n",
    " ### Since the data frame's preview showed NaN values, we shall dig deeper and identify their occurrences:"
   ]
  },
  {
   "cell_type": "code",
   "execution_count": 7,
   "id": "f84e9f26",
   "metadata": {},
   "outputs": [
    {
     "data": {
      "image/png": "[encoded data removed]",
      "text/plain": [
       "<Figure size 640x480 with 1 Axes>"
      ]
     },
     "metadata": {},
     "output_type": "display_data"
    }
   ],
   "source": [
    "df.isnull().sum().plot.bar()\n",
    "plt.show()"
   ]
  },
  {
   "cell_type": "markdown",
   "id": "d3c96f77",
   "metadata": {},
   "source": [
    " As this dataset was provided as part of the certification course, there's no other data source I can cross-reference to retrieve the missing values.\n",
    " \n",
    " \n",
    " I cannot replace them with any central tendency measures either as these fields contain nominal data.\n",
    " \n",
    " \n",
    " The best course of action would be to drop entire rows containing these NaNs:"
   ]
  },
  {
   "cell_type": "code",
   "execution_count": 8,
   "id": "55b6e455",
   "metadata": {},
   "outputs": [],
   "source": [
    "df.dropna(subset=[\"start_station_id\",\"start_station_name\", \"end_station_id\", \"end_lat\"], axis=0, inplace = True)"
   ]
  },
  {
   "cell_type": "markdown",
   "id": "7c6c73d6",
   "metadata": {},
   "source": [
    "This looks much better, no null values anywhere in the data frame:"
   ]
  },
  {
   "cell_type": "code",
   "execution_count": 9,
   "id": "648c30c1",
   "metadata": {},
   "outputs": [
    {
     "data": {
      "image/png": "[encoded data removed]",
      "text/plain": [
       "<Figure size 640x480 with 1 Axes>"
      ]
     },
     "metadata": {},
     "output_type": "display_data"
    }
   ],
   "source": [
    "df.isnull().sum().plot.bar()\n",
    "plt.show()"
   ]
  },
  {
   "cell_type": "markdown",
   "id": "ab895523",
   "metadata": {},
   "source": [
    "Wow, we dropped over a million records!"
   ]
  },
  {
   "cell_type": "code",
   "execution_count": 10,
   "id": "b0864cab",
   "metadata": {},
   "outputs": [
    {
     "name": "stdout",
     "output_type": "stream",
     "text": [
      "(4588302, 13)\n"
     ]
    }
   ],
   "source": [
    "shape = df.shape\n",
    "print(shape)"
   ]
  },
  {
   "cell_type": "markdown",
   "id": "865843ec",
   "metadata": {},
   "source": [
    "### Each ride's duration would be a useful metric to assess trends in users' behaviours:"
   ]
  },
  {
   "cell_type": "code",
   "execution_count": 11,
   "id": "20787264",
   "metadata": {},
   "outputs": [],
   "source": [
    "df[\"started_at\"] = df[\"started_at\"].astype(\"datetime64[ns]\")\n",
    "df[\"ended_at\"] = df[\"ended_at\"].astype(\"datetime64[ns]\")"
   ]
  },
  {
   "cell_type": "code",
   "execution_count": 12,
   "id": "c0f6bd12",
   "metadata": {},
   "outputs": [
    {
     "data": {
      "text/plain": [
       "9         433.0\n",
       "10        272.0\n",
       "11        587.0\n",
       "12        537.0\n",
       "13        609.0\n",
       "          ...  \n",
       "247528    280.0\n",
       "247532    266.0\n",
       "247536    421.0\n",
       "247537    497.0\n",
       "247539    217.0\n",
       "Name: duration, Length: 4588302, dtype: float64"
      ]
     },
     "execution_count": 12,
     "metadata": {},
     "output_type": "execute_result"
    }
   ],
   "source": [
    "df['duration'] = abs(df['ended_at'] - df['started_at']).dt.total_seconds()\n",
    "df.duration.abs()"
   ]
  },
  {
   "cell_type": "markdown",
   "id": "a3ad914a",
   "metadata": {},
   "source": [
    "*I have calculated absolute values to account for rides that lasted beyond midnight which would result in a negative duration value*"
   ]
  },
  {
   "cell_type": "markdown",
   "id": "6b4d1760",
   "metadata": {},
   "source": [
    "### Let's look at the distribution of ride duration values:"
   ]
  },
  {
   "cell_type": "code",
   "execution_count": 13,
   "id": "3cd1f743",
   "metadata": {},
   "outputs": [
    {
     "data": {
      "image/png": "[encoded data removed]",
      "text/plain": [
       "<Figure size 640x480 with 2 Axes>"
      ]
     },
     "metadata": {},
     "output_type": "display_data"
    }
   ],
   "source": [
    "x = df['duration']\n",
    "\n",
    "f, (ax_box, ax_hist) = plt.subplots(2, sharex=True, gridspec_kw={\"height_ratios\": (.15, .85)})\n",
    "\n",
    "sns.boxplot(x=x, ax=ax_box)\n",
    "sns.histplot(x=x, bins=12, kde=True, stat='count', ax=ax_hist)\n",
    "\n",
    "ax_box.set(yticks=[])\n",
    "sns.despine(ax=ax_hist)\n",
    "sns.despine(ax=ax_box, left=True)"
   ]
  },
  {
   "cell_type": "markdown",
   "id": "182523c9",
   "metadata": {},
   "source": [
    "Looks like there are plenty of outliers skewing the data. Let's look into this."
   ]
  },
  {
   "cell_type": "code",
   "execution_count": 14,
   "id": "2dcfe959",
   "metadata": {},
   "outputs": [
    {
     "data": {
      "text/plain": [
       "count   4588302\n",
       "mean       1309\n",
       "std       11065\n",
       "min           0\n",
       "1%           40\n",
       "10%         250\n",
       "20%         363\n",
       "30%         472\n",
       "40%         592\n",
       "50%         732\n",
       "60%         911\n",
       "70%        1158\n",
       "80%        1543\n",
       "90%        2313\n",
       "95%        3471\n",
       "max     3356649\n",
       "Name: duration, dtype: float64"
      ]
     },
     "execution_count": 14,
     "metadata": {},
     "output_type": "execute_result"
    }
   ],
   "source": [
    "pd.set_option('display.float_format', lambda x: '%.0f' % x)\n",
    "df['duration'].describe([.01,.1,.2,.3,.4,.5,.6,.7,.8,.9,.95])"
   ]
  },
  {
   "cell_type": "markdown",
   "id": "de569e09",
   "metadata": {},
   "source": [
    "I'm finding it hard to believe someone rented a bike for 3,356,649 seconds! Of course, this is erroneous but out of curiosity, let's check this out."
   ]
  },
  {
   "cell_type": "code",
   "execution_count": 15,
   "id": "9a3b4727",
   "metadata": {},
   "outputs": [
    {
     "data": {
      "text/html": [
       "<div>\n",
       "<style scoped>\n",
       "    .dataframe tbody tr th:only-of-type {\n",
       "        vertical-align: middle;\n",
       "    }\n",
       "\n",
       "    .dataframe tbody tr th {\n",
       "        vertical-align: top;\n",
       "    }\n",
       "\n",
       "    .dataframe thead th {\n",
       "        text-align: right;\n",
       "    }\n",
       "</style>\n",
       "<table border=\"1\" class=\"dataframe\">\n",
       "  <thead>\n",
       "    <tr style=\"text-align: right;\">\n",
       "      <th></th>\n",
       "      <th>ride_id</th>\n",
       "      <th>rideable_type</th>\n",
       "      <th>started_at</th>\n",
       "      <th>ended_at</th>\n",
       "      <th>start_station_name</th>\n",
       "      <th>start_station_id</th>\n",
       "      <th>end_station_name</th>\n",
       "      <th>end_station_id</th>\n",
       "      <th>start_lat</th>\n",
       "      <th>start_lng</th>\n",
       "      <th>end_lat</th>\n",
       "      <th>end_lng</th>\n",
       "      <th>member_casual</th>\n",
       "      <th>duration</th>\n",
       "    </tr>\n",
       "  </thead>\n",
       "  <tbody>\n",
       "    <tr>\n",
       "      <th>595683</th>\n",
       "      <td>F043F0F6A1AA4F85</td>\n",
       "      <td>docked_bike</td>\n",
       "      <td>2021-06-05 02:27:26</td>\n",
       "      <td>2021-07-13 22:51:35</td>\n",
       "      <td>Michigan Ave &amp; Lake St</td>\n",
       "      <td>TA1305000011</td>\n",
       "      <td>Malcolm X College Vaccination Site</td>\n",
       "      <td>631</td>\n",
       "      <td>42</td>\n",
       "      <td>-88</td>\n",
       "      <td>42</td>\n",
       "      <td>-88</td>\n",
       "      <td>casual</td>\n",
       "      <td>3356649</td>\n",
       "    </tr>\n",
       "  </tbody>\n",
       "</table>\n",
       "</div>"
      ],
      "text/plain": [
       "                 ride_id rideable_type          started_at  \\\n",
       "595683  F043F0F6A1AA4F85   docked_bike 2021-06-05 02:27:26   \n",
       "\n",
       "                  ended_at      start_station_name start_station_id  \\\n",
       "595683 2021-07-13 22:51:35  Michigan Ave & Lake St     TA1305000011   \n",
       "\n",
       "                          end_station_name end_station_id  start_lat  \\\n",
       "595683  Malcolm X College Vaccination Site            631         42   \n",
       "\n",
       "        start_lng  end_lat  end_lng member_casual  duration  \n",
       "595683        -88       42      -88        casual   3356649  "
      ]
     },
     "execution_count": 15,
     "metadata": {},
     "output_type": "execute_result"
    }
   ],
   "source": [
    "df[df['duration']==df['duration'].max()]"
   ]
  },
  {
   "cell_type": "markdown",
   "id": "2cde4216",
   "metadata": {},
   "source": [
    "Haha, there's no way someone rented the same bike for over a month!"
   ]
  },
  {
   "cell_type": "markdown",
   "id": "cdd0fdee",
   "metadata": {},
   "source": [
    "### Since 95% of the data lies between 0 - 3471 seconds, let's eliminate the outliers greater than 3471 seconds and rides that lasted 0 seconds:"
   ]
  },
  {
   "cell_type": "code",
   "execution_count": 16,
   "id": "63d8063c",
   "metadata": {},
   "outputs": [],
   "source": [
    "df.drop(df[df.duration > 3471].index, inplace=True)\n",
    "df.drop(df[df.duration == 0].index, inplace=True)"
   ]
  },
  {
   "cell_type": "code",
   "execution_count": 17,
   "id": "f3a39777",
   "metadata": {},
   "outputs": [
    {
     "data": {
      "image/png": "[encoded data removed]",
      "text/plain": [
       "<Figure size 640x480 with 2 Axes>"
      ]
     },
     "metadata": {},
     "output_type": "display_data"
    }
   ],
   "source": [
    "x = df['duration']\n",
    "\n",
    "f, (ax_box, ax_hist) = plt.subplots(2, sharex=True, gridspec_kw={\"height_ratios\": (.15, .85)})\n",
    "\n",
    "sns.boxplot(x=x, ax=ax_box)\n",
    "sns.histplot(x=x, bins=12, kde=True, stat='count', ax=ax_hist)\n",
    "\n",
    "ax_box.set(yticks=[])\n",
    "sns.despine(ax=ax_hist)\n",
    "sns.despine(ax=ax_box, left=True)"
   ]
  },
  {
   "cell_type": "code",
   "execution_count": 18,
   "id": "dbac9ef0",
   "metadata": {},
   "outputs": [
    {
     "data": {
      "text/plain": [
       "count   3238938\n",
       "mean        900\n",
       "std         678\n",
       "min           1\n",
       "1%           38\n",
       "10%         245\n",
       "20%         354\n",
       "30%         459\n",
       "40%         571\n",
       "50%         700\n",
       "60%         857\n",
       "70%        1066\n",
       "80%        1372\n",
       "90%        1877\n",
       "95%        2353\n",
       "max        3471\n",
       "Name: duration, dtype: float64"
      ]
     },
     "execution_count": 18,
     "metadata": {},
     "output_type": "execute_result"
    }
   ],
   "source": [
    "pd.set_option('display.float_format', lambda x: '%.0f' % x)\n",
    "df['duration'].describe([.01,.1,.2,.3,.4,.5,.6,.7,.8,.9,.95])"
   ]
  },
  {
   "cell_type": "markdown",
   "id": "d15af6dc",
   "metadata": {},
   "source": [
    "The standard deviation went down from 11065 to 678. \n",
    "\n",
    "Now, the distribution is a more realistic representation of user behaviour."
   ]
  },
  {
   "cell_type": "code",
   "execution_count": 19,
   "id": "64307a4c",
   "metadata": {},
   "outputs": [
    {
     "name": "stdout",
     "output_type": "stream",
     "text": [
      "(3238938, 14)\n"
     ]
    }
   ],
   "source": [
    "shape = df.shape\n",
    "print(shape)"
   ]
  },
  {
   "cell_type": "markdown",
   "id": "bc2cd27d",
   "metadata": {},
   "source": [
    "### Let's extract the month from each date stamp to analyze usage patterns through the year:"
   ]
  },
  {
   "cell_type": "code",
   "execution_count": 20,
   "id": "e0fa7385",
   "metadata": {},
   "outputs": [
    {
     "data": {
      "text/html": [
       "<div>\n",
       "<style scoped>\n",
       "    .dataframe tbody tr th:only-of-type {\n",
       "        vertical-align: middle;\n",
       "    }\n",
       "\n",
       "    .dataframe tbody tr th {\n",
       "        vertical-align: top;\n",
       "    }\n",
       "\n",
       "    .dataframe thead th {\n",
       "        text-align: right;\n",
       "    }\n",
       "</style>\n",
       "<table border=\"1\" class=\"dataframe\">\n",
       "  <thead>\n",
       "    <tr style=\"text-align: right;\">\n",
       "      <th></th>\n",
       "      <th>ride_id</th>\n",
       "      <th>rideable_type</th>\n",
       "      <th>started_at</th>\n",
       "      <th>ended_at</th>\n",
       "      <th>start_station_name</th>\n",
       "      <th>start_station_id</th>\n",
       "      <th>end_station_name</th>\n",
       "      <th>end_station_id</th>\n",
       "      <th>start_lat</th>\n",
       "      <th>start_lng</th>\n",
       "      <th>end_lat</th>\n",
       "      <th>end_lng</th>\n",
       "      <th>member_casual</th>\n",
       "      <th>duration</th>\n",
       "      <th>month</th>\n",
       "    </tr>\n",
       "  </thead>\n",
       "  <tbody>\n",
       "    <tr>\n",
       "      <th>9</th>\n",
       "      <td>B9F73448DFBE0D45</td>\n",
       "      <td>classic_bike</td>\n",
       "      <td>2021-01-24 19:15:38</td>\n",
       "      <td>2021-01-24 19:22:51</td>\n",
       "      <td>California Ave &amp; Cortez St</td>\n",
       "      <td>17660</td>\n",
       "      <td>Wood St &amp; Augusta Blvd</td>\n",
       "      <td>657</td>\n",
       "      <td>42</td>\n",
       "      <td>-88</td>\n",
       "      <td>42</td>\n",
       "      <td>-88</td>\n",
       "      <td>member</td>\n",
       "      <td>433</td>\n",
       "      <td>Jan</td>\n",
       "    </tr>\n",
       "    <tr>\n",
       "      <th>12</th>\n",
       "      <td>4D518C65E338D070</td>\n",
       "      <td>electric_bike</td>\n",
       "      <td>2021-01-09 15:28:57</td>\n",
       "      <td>2021-01-09 15:37:54</td>\n",
       "      <td>California Ave &amp; Cortez St</td>\n",
       "      <td>17660</td>\n",
       "      <td>Wood St &amp; Augusta Blvd</td>\n",
       "      <td>657</td>\n",
       "      <td>42</td>\n",
       "      <td>-88</td>\n",
       "      <td>42</td>\n",
       "      <td>-88</td>\n",
       "      <td>casual</td>\n",
       "      <td>537</td>\n",
       "      <td>Jan</td>\n",
       "    </tr>\n",
       "    <tr>\n",
       "      <th>13</th>\n",
       "      <td>9D08A3AFF410474D</td>\n",
       "      <td>classic_bike</td>\n",
       "      <td>2021-01-24 15:56:59</td>\n",
       "      <td>2021-01-24 16:07:08</td>\n",
       "      <td>California Ave &amp; Cortez St</td>\n",
       "      <td>17660</td>\n",
       "      <td>Wood St &amp; Augusta Blvd</td>\n",
       "      <td>657</td>\n",
       "      <td>42</td>\n",
       "      <td>-88</td>\n",
       "      <td>42</td>\n",
       "      <td>-88</td>\n",
       "      <td>casual</td>\n",
       "      <td>609</td>\n",
       "      <td>Jan</td>\n",
       "    </tr>\n",
       "    <tr>\n",
       "      <th>15</th>\n",
       "      <td>0FEED5C2C8749A1C</td>\n",
       "      <td>classic_bike</td>\n",
       "      <td>2021-01-05 10:33:12</td>\n",
       "      <td>2021-01-05 10:39:12</td>\n",
       "      <td>California Ave &amp; Cortez St</td>\n",
       "      <td>17660</td>\n",
       "      <td>Sacramento Blvd &amp; Franklin Blvd</td>\n",
       "      <td>KA1504000113</td>\n",
       "      <td>42</td>\n",
       "      <td>-88</td>\n",
       "      <td>42</td>\n",
       "      <td>-88</td>\n",
       "      <td>member</td>\n",
       "      <td>360</td>\n",
       "      <td>Jan</td>\n",
       "    </tr>\n",
       "    <tr>\n",
       "      <th>16</th>\n",
       "      <td>E276FD43BDED6420</td>\n",
       "      <td>classic_bike</td>\n",
       "      <td>2021-01-30 11:59:16</td>\n",
       "      <td>2021-01-30 12:03:44</td>\n",
       "      <td>California Ave &amp; Cortez St</td>\n",
       "      <td>17660</td>\n",
       "      <td>Western Ave &amp; Walton St</td>\n",
       "      <td>KA1504000103</td>\n",
       "      <td>42</td>\n",
       "      <td>-88</td>\n",
       "      <td>42</td>\n",
       "      <td>-88</td>\n",
       "      <td>member</td>\n",
       "      <td>268</td>\n",
       "      <td>Jan</td>\n",
       "    </tr>\n",
       "  </tbody>\n",
       "</table>\n",
       "</div>"
      ],
      "text/plain": [
       "             ride_id  rideable_type          started_at            ended_at  \\\n",
       "9   B9F73448DFBE0D45   classic_bike 2021-01-24 19:15:38 2021-01-24 19:22:51   \n",
       "12  4D518C65E338D070  electric_bike 2021-01-09 15:28:57 2021-01-09 15:37:54   \n",
       "13  9D08A3AFF410474D   classic_bike 2021-01-24 15:56:59 2021-01-24 16:07:08   \n",
       "15  0FEED5C2C8749A1C   classic_bike 2021-01-05 10:33:12 2021-01-05 10:39:12   \n",
       "16  E276FD43BDED6420   classic_bike 2021-01-30 11:59:16 2021-01-30 12:03:44   \n",
       "\n",
       "            start_station_name start_station_id  \\\n",
       "9   California Ave & Cortez St            17660   \n",
       "12  California Ave & Cortez St            17660   \n",
       "13  California Ave & Cortez St            17660   \n",
       "15  California Ave & Cortez St            17660   \n",
       "16  California Ave & Cortez St            17660   \n",
       "\n",
       "                   end_station_name end_station_id  start_lat  start_lng  \\\n",
       "9            Wood St & Augusta Blvd            657         42        -88   \n",
       "12           Wood St & Augusta Blvd            657         42        -88   \n",
       "13           Wood St & Augusta Blvd            657         42        -88   \n",
       "15  Sacramento Blvd & Franklin Blvd   KA1504000113         42        -88   \n",
       "16          Western Ave & Walton St   KA1504000103         42        -88   \n",
       "\n",
       "    end_lat  end_lng member_casual  duration month  \n",
       "9        42      -88        member       433   Jan  \n",
       "12       42      -88        casual       537   Jan  \n",
       "13       42      -88        casual       609   Jan  \n",
       "15       42      -88        member       360   Jan  \n",
       "16       42      -88        member       268   Jan  "
      ]
     },
     "execution_count": 20,
     "metadata": {},
     "output_type": "execute_result"
    }
   ],
   "source": [
    "df[\"month\"] = df[\"started_at\"].dt.strftime('%b')\n",
    "df.head()"
   ]
  },
  {
   "cell_type": "markdown",
   "id": "d24a734b",
   "metadata": {},
   "source": [
    "### To ensure consequent plots have data sorted in the correct sequence of months, let's create an index variable for each month and fix the order:\n"
   ]
  },
  {
   "cell_type": "code",
   "execution_count": 21,
   "id": "abf92891",
   "metadata": {},
   "outputs": [],
   "source": [
    "final = df\n",
    "sort_order=['Jan','Feb','Mar','Apr','May','Jun','Jul','Aug','Sep','Oct','Nov','Dec']\n",
    "final.index=pd.CategoricalIndex(final['month'],categories=sort_order,ordered=True)\n",
    "final=final.sort_index().reset_index(drop=True)\n",
    "df.drop(\"month\", axis = 1, inplace=True)"
   ]
  },
  {
   "cell_type": "code",
   "execution_count": 22,
   "id": "4278c137",
   "metadata": {},
   "outputs": [
    {
     "data": {
      "text/html": [
       "<div>\n",
       "<style scoped>\n",
       "    .dataframe tbody tr th:only-of-type {\n",
       "        vertical-align: middle;\n",
       "    }\n",
       "\n",
       "    .dataframe tbody tr th {\n",
       "        vertical-align: top;\n",
       "    }\n",
       "\n",
       "    .dataframe thead th {\n",
       "        text-align: right;\n",
       "    }\n",
       "</style>\n",
       "<table border=\"1\" class=\"dataframe\">\n",
       "  <thead>\n",
       "    <tr style=\"text-align: right;\">\n",
       "      <th></th>\n",
       "      <th>ride_id</th>\n",
       "      <th>rideable_type</th>\n",
       "      <th>started_at</th>\n",
       "      <th>ended_at</th>\n",
       "      <th>start_station_name</th>\n",
       "      <th>start_station_id</th>\n",
       "      <th>end_station_name</th>\n",
       "      <th>end_station_id</th>\n",
       "      <th>start_lat</th>\n",
       "      <th>start_lng</th>\n",
       "      <th>end_lat</th>\n",
       "      <th>end_lng</th>\n",
       "      <th>member_casual</th>\n",
       "      <th>duration</th>\n",
       "    </tr>\n",
       "    <tr>\n",
       "      <th>month</th>\n",
       "      <th></th>\n",
       "      <th></th>\n",
       "      <th></th>\n",
       "      <th></th>\n",
       "      <th></th>\n",
       "      <th></th>\n",
       "      <th></th>\n",
       "      <th></th>\n",
       "      <th></th>\n",
       "      <th></th>\n",
       "      <th></th>\n",
       "      <th></th>\n",
       "      <th></th>\n",
       "      <th></th>\n",
       "    </tr>\n",
       "  </thead>\n",
       "  <tbody>\n",
       "    <tr>\n",
       "      <th>Jan</th>\n",
       "      <td>B9F73448DFBE0D45</td>\n",
       "      <td>classic_bike</td>\n",
       "      <td>2021-01-24 19:15:38</td>\n",
       "      <td>2021-01-24 19:22:51</td>\n",
       "      <td>California Ave &amp; Cortez St</td>\n",
       "      <td>17660</td>\n",
       "      <td>Wood St &amp; Augusta Blvd</td>\n",
       "      <td>657</td>\n",
       "      <td>42</td>\n",
       "      <td>-88</td>\n",
       "      <td>42</td>\n",
       "      <td>-88</td>\n",
       "      <td>member</td>\n",
       "      <td>433</td>\n",
       "    </tr>\n",
       "    <tr>\n",
       "      <th>Jan</th>\n",
       "      <td>4D518C65E338D070</td>\n",
       "      <td>electric_bike</td>\n",
       "      <td>2021-01-09 15:28:57</td>\n",
       "      <td>2021-01-09 15:37:54</td>\n",
       "      <td>California Ave &amp; Cortez St</td>\n",
       "      <td>17660</td>\n",
       "      <td>Wood St &amp; Augusta Blvd</td>\n",
       "      <td>657</td>\n",
       "      <td>42</td>\n",
       "      <td>-88</td>\n",
       "      <td>42</td>\n",
       "      <td>-88</td>\n",
       "      <td>casual</td>\n",
       "      <td>537</td>\n",
       "    </tr>\n",
       "    <tr>\n",
       "      <th>Jan</th>\n",
       "      <td>9D08A3AFF410474D</td>\n",
       "      <td>classic_bike</td>\n",
       "      <td>2021-01-24 15:56:59</td>\n",
       "      <td>2021-01-24 16:07:08</td>\n",
       "      <td>California Ave &amp; Cortez St</td>\n",
       "      <td>17660</td>\n",
       "      <td>Wood St &amp; Augusta Blvd</td>\n",
       "      <td>657</td>\n",
       "      <td>42</td>\n",
       "      <td>-88</td>\n",
       "      <td>42</td>\n",
       "      <td>-88</td>\n",
       "      <td>casual</td>\n",
       "      <td>609</td>\n",
       "    </tr>\n",
       "    <tr>\n",
       "      <th>Jan</th>\n",
       "      <td>0FEED5C2C8749A1C</td>\n",
       "      <td>classic_bike</td>\n",
       "      <td>2021-01-05 10:33:12</td>\n",
       "      <td>2021-01-05 10:39:12</td>\n",
       "      <td>California Ave &amp; Cortez St</td>\n",
       "      <td>17660</td>\n",
       "      <td>Sacramento Blvd &amp; Franklin Blvd</td>\n",
       "      <td>KA1504000113</td>\n",
       "      <td>42</td>\n",
       "      <td>-88</td>\n",
       "      <td>42</td>\n",
       "      <td>-88</td>\n",
       "      <td>member</td>\n",
       "      <td>360</td>\n",
       "    </tr>\n",
       "    <tr>\n",
       "      <th>Jan</th>\n",
       "      <td>E276FD43BDED6420</td>\n",
       "      <td>classic_bike</td>\n",
       "      <td>2021-01-30 11:59:16</td>\n",
       "      <td>2021-01-30 12:03:44</td>\n",
       "      <td>California Ave &amp; Cortez St</td>\n",
       "      <td>17660</td>\n",
       "      <td>Western Ave &amp; Walton St</td>\n",
       "      <td>KA1504000103</td>\n",
       "      <td>42</td>\n",
       "      <td>-88</td>\n",
       "      <td>42</td>\n",
       "      <td>-88</td>\n",
       "      <td>member</td>\n",
       "      <td>268</td>\n",
       "    </tr>\n",
       "  </tbody>\n",
       "</table>\n",
       "</div>"
      ],
      "text/plain": [
       "                ride_id  rideable_type          started_at  \\\n",
       "month                                                        \n",
       "Jan    B9F73448DFBE0D45   classic_bike 2021-01-24 19:15:38   \n",
       "Jan    4D518C65E338D070  electric_bike 2021-01-09 15:28:57   \n",
       "Jan    9D08A3AFF410474D   classic_bike 2021-01-24 15:56:59   \n",
       "Jan    0FEED5C2C8749A1C   classic_bike 2021-01-05 10:33:12   \n",
       "Jan    E276FD43BDED6420   classic_bike 2021-01-30 11:59:16   \n",
       "\n",
       "                 ended_at          start_station_name start_station_id  \\\n",
       "month                                                                    \n",
       "Jan   2021-01-24 19:22:51  California Ave & Cortez St            17660   \n",
       "Jan   2021-01-09 15:37:54  California Ave & Cortez St            17660   \n",
       "Jan   2021-01-24 16:07:08  California Ave & Cortez St            17660   \n",
       "Jan   2021-01-05 10:39:12  California Ave & Cortez St            17660   \n",
       "Jan   2021-01-30 12:03:44  California Ave & Cortez St            17660   \n",
       "\n",
       "                      end_station_name end_station_id  start_lat  start_lng  \\\n",
       "month                                                                         \n",
       "Jan             Wood St & Augusta Blvd            657         42        -88   \n",
       "Jan             Wood St & Augusta Blvd            657         42        -88   \n",
       "Jan             Wood St & Augusta Blvd            657         42        -88   \n",
       "Jan    Sacramento Blvd & Franklin Blvd   KA1504000113         42        -88   \n",
       "Jan            Western Ave & Walton St   KA1504000103         42        -88   \n",
       "\n",
       "       end_lat  end_lng member_casual  duration  \n",
       "month                                            \n",
       "Jan         42      -88        member       433  \n",
       "Jan         42      -88        casual       537  \n",
       "Jan         42      -88        casual       609  \n",
       "Jan         42      -88        member       360  \n",
       "Jan         42      -88        member       268  "
      ]
     },
     "execution_count": 22,
     "metadata": {},
     "output_type": "execute_result"
    }
   ],
   "source": [
    "df.head(5)"
   ]
  },
  {
   "cell_type": "code",
   "execution_count": 23,
   "id": "6b4cdb15",
   "metadata": {},
   "outputs": [
    {
     "data": {
      "text/html": [
       "<div>\n",
       "<style scoped>\n",
       "    .dataframe tbody tr th:only-of-type {\n",
       "        vertical-align: middle;\n",
       "    }\n",
       "\n",
       "    .dataframe tbody tr th {\n",
       "        vertical-align: top;\n",
       "    }\n",
       "\n",
       "    .dataframe thead th {\n",
       "        text-align: right;\n",
       "    }\n",
       "</style>\n",
       "<table border=\"1\" class=\"dataframe\">\n",
       "  <thead>\n",
       "    <tr style=\"text-align: right;\">\n",
       "      <th></th>\n",
       "      <th>ride_id</th>\n",
       "      <th>rideable_type</th>\n",
       "      <th>started_at</th>\n",
       "      <th>ended_at</th>\n",
       "      <th>start_station_name</th>\n",
       "      <th>start_station_id</th>\n",
       "      <th>end_station_name</th>\n",
       "      <th>end_station_id</th>\n",
       "      <th>start_lat</th>\n",
       "      <th>start_lng</th>\n",
       "      <th>end_lat</th>\n",
       "      <th>end_lng</th>\n",
       "      <th>member_casual</th>\n",
       "      <th>duration</th>\n",
       "    </tr>\n",
       "    <tr>\n",
       "      <th>month</th>\n",
       "      <th></th>\n",
       "      <th></th>\n",
       "      <th></th>\n",
       "      <th></th>\n",
       "      <th></th>\n",
       "      <th></th>\n",
       "      <th></th>\n",
       "      <th></th>\n",
       "      <th></th>\n",
       "      <th></th>\n",
       "      <th></th>\n",
       "      <th></th>\n",
       "      <th></th>\n",
       "      <th></th>\n",
       "    </tr>\n",
       "  </thead>\n",
       "  <tbody>\n",
       "    <tr>\n",
       "      <th>Dec</th>\n",
       "      <td>073BDECDD8CEEB7F</td>\n",
       "      <td>classic_bike</td>\n",
       "      <td>2021-12-06 17:51:27</td>\n",
       "      <td>2021-12-06 17:54:43</td>\n",
       "      <td>Wells St &amp; Huron St</td>\n",
       "      <td>TA1306000012</td>\n",
       "      <td>Wells St &amp; Walton St</td>\n",
       "      <td>TA1306000011</td>\n",
       "      <td>42</td>\n",
       "      <td>-88</td>\n",
       "      <td>42</td>\n",
       "      <td>-88</td>\n",
       "      <td>casual</td>\n",
       "      <td>196</td>\n",
       "    </tr>\n",
       "    <tr>\n",
       "      <th>Dec</th>\n",
       "      <td>E06135F650553F21</td>\n",
       "      <td>electric_bike</td>\n",
       "      <td>2021-12-07 15:55:37</td>\n",
       "      <td>2021-12-07 16:00:17</td>\n",
       "      <td>Canal St &amp; Madison St</td>\n",
       "      <td>13341</td>\n",
       "      <td>Desplaines St &amp; Kinzie St</td>\n",
       "      <td>TA1306000003</td>\n",
       "      <td>42</td>\n",
       "      <td>-88</td>\n",
       "      <td>42</td>\n",
       "      <td>-88</td>\n",
       "      <td>casual</td>\n",
       "      <td>280</td>\n",
       "    </tr>\n",
       "    <tr>\n",
       "      <th>Dec</th>\n",
       "      <td>8DF0DBB049906332</td>\n",
       "      <td>electric_bike</td>\n",
       "      <td>2021-12-01 16:50:52</td>\n",
       "      <td>2021-12-01 16:55:18</td>\n",
       "      <td>Canal St &amp; Madison St</td>\n",
       "      <td>13341</td>\n",
       "      <td>Desplaines St &amp; Kinzie St</td>\n",
       "      <td>TA1306000003</td>\n",
       "      <td>42</td>\n",
       "      <td>-88</td>\n",
       "      <td>42</td>\n",
       "      <td>-88</td>\n",
       "      <td>casual</td>\n",
       "      <td>266</td>\n",
       "    </tr>\n",
       "    <tr>\n",
       "      <th>Dec</th>\n",
       "      <td>60BB69EBF5440E92</td>\n",
       "      <td>electric_bike</td>\n",
       "      <td>2021-12-02 08:57:04</td>\n",
       "      <td>2021-12-02 09:05:21</td>\n",
       "      <td>Canal St &amp; Madison St</td>\n",
       "      <td>13341</td>\n",
       "      <td>Dearborn St &amp; Monroe St</td>\n",
       "      <td>TA1305000006</td>\n",
       "      <td>42</td>\n",
       "      <td>-88</td>\n",
       "      <td>42</td>\n",
       "      <td>-88</td>\n",
       "      <td>member</td>\n",
       "      <td>497</td>\n",
       "    </tr>\n",
       "    <tr>\n",
       "      <th>Dec</th>\n",
       "      <td>37AC57E34B2E7E97</td>\n",
       "      <td>classic_bike</td>\n",
       "      <td>2021-12-13 08:45:32</td>\n",
       "      <td>2021-12-13 08:49:09</td>\n",
       "      <td>Michigan Ave &amp; Jackson Blvd</td>\n",
       "      <td>TA1309000002</td>\n",
       "      <td>Dearborn St &amp; Monroe St</td>\n",
       "      <td>TA1305000006</td>\n",
       "      <td>42</td>\n",
       "      <td>-88</td>\n",
       "      <td>42</td>\n",
       "      <td>-88</td>\n",
       "      <td>member</td>\n",
       "      <td>217</td>\n",
       "    </tr>\n",
       "  </tbody>\n",
       "</table>\n",
       "</div>"
      ],
      "text/plain": [
       "                ride_id  rideable_type          started_at  \\\n",
       "month                                                        \n",
       "Dec    073BDECDD8CEEB7F   classic_bike 2021-12-06 17:51:27   \n",
       "Dec    E06135F650553F21  electric_bike 2021-12-07 15:55:37   \n",
       "Dec    8DF0DBB049906332  electric_bike 2021-12-01 16:50:52   \n",
       "Dec    60BB69EBF5440E92  electric_bike 2021-12-02 08:57:04   \n",
       "Dec    37AC57E34B2E7E97   classic_bike 2021-12-13 08:45:32   \n",
       "\n",
       "                 ended_at           start_station_name start_station_id  \\\n",
       "month                                                                     \n",
       "Dec   2021-12-06 17:54:43          Wells St & Huron St     TA1306000012   \n",
       "Dec   2021-12-07 16:00:17        Canal St & Madison St            13341   \n",
       "Dec   2021-12-01 16:55:18        Canal St & Madison St            13341   \n",
       "Dec   2021-12-02 09:05:21        Canal St & Madison St            13341   \n",
       "Dec   2021-12-13 08:49:09  Michigan Ave & Jackson Blvd     TA1309000002   \n",
       "\n",
       "                end_station_name end_station_id  start_lat  start_lng  \\\n",
       "month                                                                   \n",
       "Dec         Wells St & Walton St   TA1306000011         42        -88   \n",
       "Dec    Desplaines St & Kinzie St   TA1306000003         42        -88   \n",
       "Dec    Desplaines St & Kinzie St   TA1306000003         42        -88   \n",
       "Dec      Dearborn St & Monroe St   TA1305000006         42        -88   \n",
       "Dec      Dearborn St & Monroe St   TA1305000006         42        -88   \n",
       "\n",
       "       end_lat  end_lng member_casual  duration  \n",
       "month                                            \n",
       "Dec         42      -88        casual       196  \n",
       "Dec         42      -88        casual       280  \n",
       "Dec         42      -88        casual       266  \n",
       "Dec         42      -88        member       497  \n",
       "Dec         42      -88        member       217  "
      ]
     },
     "execution_count": 23,
     "metadata": {},
     "output_type": "execute_result"
    }
   ],
   "source": [
    "df.tail(5)"
   ]
  },
  {
   "cell_type": "markdown",
   "id": "3ab00a70",
   "metadata": {},
   "source": [
    "## DATA EXPLORATION"
   ]
  },
  {
   "cell_type": "markdown",
   "id": "fd3af83e",
   "metadata": {},
   "source": [
    "### As pricing plans vary based on the duration of a ride, let's identify periods of the year during which users rent bikes for longer durations:"
   ]
  },
  {
   "cell_type": "code",
   "execution_count": 24,
   "id": "40d413b9",
   "metadata": {},
   "outputs": [
    {
     "name": "stdout",
     "output_type": "stream",
     "text": [
      "month  member_casual\n",
      "Jan    casual           937\n",
      "       member           693\n",
      "Feb    casual          1102\n",
      "       member           780\n",
      "Mar    casual          1199\n",
      "       member           773\n",
      "Apr    casual          1178\n",
      "       member           795\n",
      "May    casual          1207\n",
      "       member           804\n",
      "Jun    casual          1150\n",
      "       member           800\n",
      "Jul    casual          1120\n",
      "       member           781\n",
      "Aug    casual          1091\n",
      "       member           769\n",
      "Sep    casual          1064\n",
      "       member           744\n",
      "Oct    casual          1008\n",
      "       member           685\n",
      "Nov    casual           887\n",
      "       member           626\n",
      "Dec    casual           865\n",
      "       member           611\n",
      "Name: duration, dtype: float64\n"
     ]
    }
   ],
   "source": [
    "x = (df.groupby(['month', 'member_casual']).duration.mean())\n",
    "print(x)"
   ]
  },
  {
   "cell_type": "markdown",
   "id": "083990c3",
   "metadata": {},
   "source": [
    "A line plot would make this table a lot easier to interpret."
   ]
  },
  {
   "cell_type": "code",
   "execution_count": 36,
   "id": "b2565079",
   "metadata": {},
   "outputs": [
    {
     "data": {
      "image/png": "[encoded data removed]",
      "text/plain": [
       "<Figure size 640x480 with 1 Axes>"
      ]
     },
     "metadata": {},
     "output_type": "display_data"
    }
   ],
   "source": [
    "x.unstack().plot()\n",
    "plt.xticks(rotation=0)\n",
    "plt.ylabel(\"Duration (sec)\")\n",
    "plt.xlabel(\"\")\n",
    "plt.show()"
   ]
  },
  {
   "cell_type": "markdown",
   "id": "fc625722",
   "metadata": {},
   "source": [
    "Members' usage exhibits a narrower range of 600 - 800 seconds approximately. This is probably because members use the bike rental service to get from home to work or to run errands.\n",
    "\n",
    "Casual users on the other hand rent bikes for any period between 900 - 1200 seconds; if I were to speculate I'd think it's because they were using the service to explore the city rather than just get from point A to point B."
   ]
  },
  {
   "cell_type": "markdown",
   "id": "e8a10e61",
   "metadata": {},
   "source": [
    "### Let's determine the best time of year to launch the campaign:"
   ]
  },
  {
   "cell_type": "code",
   "execution_count": 26,
   "id": "c03464a8",
   "metadata": {},
   "outputs": [
    {
     "name": "stdout",
     "output_type": "stream",
     "text": [
      "month  member_casual\n",
      "Jan    member            42928\n",
      "       casual             8661\n",
      "Feb    member            22316\n",
      "       casual             5074\n",
      "Mar    member            86663\n",
      "       casual            44425\n",
      "Apr    member           125088\n",
      "       casual            73652\n",
      "May    member           171151\n",
      "       casual           139182\n",
      "Jun    member           232135\n",
      "       casual           208068\n",
      "Jul    casual           262259\n",
      "       member           249129\n",
      "Aug    member           259036\n",
      "       casual           242289\n",
      "Sep    member           245312\n",
      "       casual           203084\n",
      "Oct    member           209596\n",
      "       casual           128081\n",
      "Nov    member           123663\n",
      "       casual            44491\n",
      "Dec    member            84930\n",
      "       casual            27725\n",
      "Name: member_casual, dtype: int64\n"
     ]
    }
   ],
   "source": [
    "y = (df.groupby('month')['member_casual'].value_counts())\n",
    "print(y)"
   ]
  },
  {
   "cell_type": "code",
   "execution_count": 27,
   "id": "9730bd8a",
   "metadata": {},
   "outputs": [
    {
     "data": {
      "image/png": "[encoded data removed]",
      "text/plain": [
       "<Figure size 640x480 with 1 Axes>"
      ]
     },
     "metadata": {},
     "output_type": "display_data"
    }
   ],
   "source": [
    "y.unstack().plot()\n",
    "plt.xticks(rotation=0)\n",
    "plt.ylabel(\"Number of Rides\")\n",
    "plt.xlabel(\"\")\n",
    "plt.show()"
   ]
  },
  {
   "cell_type": "markdown",
   "id": "5d6c85e1",
   "metadata": {},
   "source": [
    "Unsurprisingly, as this servce is based in Boston, the winter months show low activity levels while usage picks up during the warmer months. \n",
    "\n",
    "Launching the campaign in April for a duration of 5 months would be ideal to maximize its reach, specifically for casual users."
   ]
  },
  {
   "cell_type": "markdown",
   "id": "bcd69efb",
   "metadata": {},
   "source": [
    "### Let's find the busiest start stations through the year for both types of users as well as for casual users only:"
   ]
  },
  {
   "cell_type": "code",
   "execution_count": 28,
   "id": "9dc07483",
   "metadata": {},
   "outputs": [
    {
     "data": {
      "text/plain": [
       "month  start_station_name                \n",
       "Jan    Clark St & Elm St                       583\n",
       "       Dearborn St & Erie St                   516\n",
       "       Wells St & Huron St                     502\n",
       "       Kingsbury St & Kinzie St                490\n",
       "       St. Clair St & Erie St                  476\n",
       "       Columbus Dr & Randolph St               435\n",
       "       Wells St & Elm St                       430\n",
       "       Wells St & Concord Ln                   393\n",
       "       Desplaines St & Kinzie St               390\n",
       "       Clark St & Schiller St                  370\n",
       "Feb    Clark St & Elm St                       318\n",
       "       St. Clair St & Erie St                  282\n",
       "       Dearborn St & Erie St                   277\n",
       "       Wells St & Elm St                       255\n",
       "       Columbus Dr & Randolph St               252\n",
       "       Kingsbury St & Kinzie St                238\n",
       "       Broadway & Waveland Ave                 230\n",
       "       Clinton St & Madison St                 223\n",
       "       Wells St & Hubbard St                   215\n",
       "       Wells St & Huron St                     210\n",
       "Mar    Lake Shore Dr & Monroe St              1468\n",
       "       Clark St & Elm St                      1227\n",
       "       Streeter Dr & Grand Ave                1186\n",
       "       Wells St & Elm St                      1061\n",
       "       Wells St & Concord Ln                  1035\n",
       "       Indiana Ave & Roosevelt Rd              997\n",
       "       Wells St & Huron St                     947\n",
       "       Dearborn St & Erie St                   938\n",
       "       Kingsbury St & Kinzie St                935\n",
       "       Millennium Park                         920\n",
       "Apr    Streeter Dr & Grand Ave                2082\n",
       "       Lake Shore Dr & Monroe St              1976\n",
       "       Clark St & Elm St                      1878\n",
       "       Wells St & Elm St                      1726\n",
       "       Wells St & Concord Ln                  1707\n",
       "       Lake Shore Dr & North Blvd             1525\n",
       "       Clark St & Lincoln Ave                 1485\n",
       "       Indiana Ave & Roosevelt Rd             1422\n",
       "       Theater on the Lake                    1420\n",
       "       Michigan Ave & Oak St                  1389\n",
       "May    Streeter Dr & Grand Ave                6466\n",
       "       Lake Shore Dr & Monroe St              3686\n",
       "       Michigan Ave & Oak St                  3015\n",
       "       Lake Shore Dr & North Blvd             2935\n",
       "       Wells St & Concord Ln                  2793\n",
       "       Millennium Park                        2754\n",
       "       Clark St & Elm St                      2542\n",
       "       Clark St & Armitage Ave                2502\n",
       "       Wells St & Elm St                      2448\n",
       "       Theater on the Lake                    2441\n",
       "Jun    Streeter Dr & Grand Ave                9407\n",
       "       Lake Shore Dr & North Blvd             5939\n",
       "       Michigan Ave & Oak St                  4749\n",
       "       Wells St & Concord Ln                  4527\n",
       "       Lake Shore Dr & Monroe St              4327\n",
       "       Clark St & Elm St                      4280\n",
       "       Theater on the Lake                    4007\n",
       "       Clark St & Lincoln Ave                 3892\n",
       "       Wells St & Elm St                      3700\n",
       "       Millennium Park                        3693\n",
       "Jul    Streeter Dr & Grand Ave               11527\n",
       "       Michigan Ave & Oak St                  5901\n",
       "       Wells St & Concord Ln                  5222\n",
       "       Millennium Park                        4823\n",
       "       Theater on the Lake                    4815\n",
       "       Lake Shore Dr & North Blvd             4628\n",
       "       Clark St & Elm St                      4468\n",
       "       Wells St & Elm St                      4431\n",
       "       Clark St & Lincoln Ave                 4302\n",
       "       Wabash Ave & Grand Ave                 3834\n",
       "Aug    Streeter Dr & Grand Ave                9423\n",
       "       DuSable Lake Shore Dr & North Blvd     6668\n",
       "       Michigan Ave & Oak St                  5447\n",
       "       Theater on the Lake                    5039\n",
       "       Wells St & Concord Ln                  4990\n",
       "       DuSable Lake Shore Dr & Monroe St      4377\n",
       "       Clark St & Lincoln Ave                 4300\n",
       "       Wells St & Elm St                      4274\n",
       "       Clark St & Elm St                      4197\n",
       "       Millennium Park                        3888\n",
       "Sep    Streeter Dr & Grand Ave                7282\n",
       "       DuSable Lake Shore Dr & North Blvd     4849\n",
       "       Wells St & Concord Ln                  4293\n",
       "       Michigan Ave & Oak St                  4170\n",
       "       Wells St & Elm St                      3720\n",
       "       Clark St & Elm St                      3631\n",
       "       Theater on the Lake                    3303\n",
       "       Clark St & Lincoln Ave                 3265\n",
       "       DuSable Lake Shore Dr & Monroe St      3171\n",
       "       Clark St & Armitage Ave                3163\n",
       "Oct    Streeter Dr & Grand Ave                4290\n",
       "       Wells St & Concord Ln                  3192\n",
       "       Clark St & Elm St                      3045\n",
       "       Ellis Ave & 60th St                    2708\n",
       "       Wells St & Elm St                      2648\n",
       "       Kingsbury St & Kinzie St               2527\n",
       "       Wells St & Huron St                    2424\n",
       "       University Ave & 57th St               2369\n",
       "       Millennium Park                        2326\n",
       "       Clark St & Armitage Ave                2294\n",
       "Nov    Kingsbury St & Kinzie St               1713\n",
       "       Ellis Ave & 60th St                    1661\n",
       "       Clark St & Elm St                      1526\n",
       "       University Ave & 57th St               1494\n",
       "       Wells St & Elm St                      1295\n",
       "       Clinton St & Madison St                1290\n",
       "       Wells St & Concord Ln                  1285\n",
       "       Streeter Dr & Grand Ave                1268\n",
       "       St. Clair St & Erie St                 1251\n",
       "       Wells St & Huron St                    1226\n",
       "Dec    Kingsbury St & Kinzie St               1151\n",
       "       Clark St & Elm St                       978\n",
       "       Clinton St & Washington Blvd            904\n",
       "       Wells St & Concord Ln                   886\n",
       "       Wells St & Elm St                       883\n",
       "       Clinton St & Madison St                 860\n",
       "       St. Clair St & Erie St                  835\n",
       "       Dearborn St & Erie St                   816\n",
       "       Wells St & Huron St                     816\n",
       "       Streeter Dr & Grand Ave                 806\n",
       "Name: start_station_name, dtype: int64"
      ]
     },
     "execution_count": 28,
     "metadata": {},
     "output_type": "execute_result"
    }
   ],
   "source": [
    "pd.set_option('display.max_rows', len(df))\n",
    "df.groupby('month')['start_station_name'].value_counts().groupby(level=0, group_keys=False).head(10)"
   ]
  },
  {
   "cell_type": "markdown",
   "id": "68145ef0",
   "metadata": {},
   "source": [
    "Since the marketing campaign aims to reach casual users mainly, I have filtered the members out to obtain the busiest stations for casual riders only."
   ]
  },
  {
   "cell_type": "code",
   "execution_count": 29,
   "id": "7c84805a",
   "metadata": {},
   "outputs": [
    {
     "data": {
      "text/plain": [
       "month  start_station_name                \n",
       "Jan    Lake Shore Dr & Monroe St               94\n",
       "       Wells St & Huron St                     90\n",
       "       Wells St & Elm St                       84\n",
       "       Clark St & Elm St                       81\n",
       "       Wells St & Evergreen Ave                73\n",
       "       Ellis Ave & 60th St                     66\n",
       "       Michigan Ave & 8th St                   66\n",
       "       Daley Center Plaza                      65\n",
       "       Wells St & Concord Ln                   64\n",
       "       Clark St & Grace St                     63\n",
       "Feb    Lake Shore Dr & Monroe St               62\n",
       "       Shedd Aquarium                          57\n",
       "       Millennium Park                         53\n",
       "       Clark St & Elm St                       51\n",
       "       Kingsbury St & Kinzie St                48\n",
       "       Streeter Dr & Grand Ave                 45\n",
       "       Wells St & Elm St                       45\n",
       "       Wabash Ave & Grand Ave                  41\n",
       "       Ashland Ave & Division St               39\n",
       "       Dearborn St & Erie St                   39\n",
       "Mar    Lake Shore Dr & Monroe St             1101\n",
       "       Streeter Dr & Grand Ave                833\n",
       "       Millennium Park                        705\n",
       "       Shedd Aquarium                         625\n",
       "       Indiana Ave & Roosevelt Rd             465\n",
       "       Michigan Ave & Oak St                  456\n",
       "       Theater on the Lake                    453\n",
       "       Lake Shore Dr & North Blvd             375\n",
       "       Clark St & Elm St                      374\n",
       "       Wells St & Elm St                      368\n",
       "Apr    Lake Shore Dr & Monroe St             1462\n",
       "       Streeter Dr & Grand Ave               1372\n",
       "       Millennium Park                       1039\n",
       "       Michigan Ave & Oak St                  807\n",
       "       Shedd Aquarium                         807\n",
       "       Lake Shore Dr & North Blvd             799\n",
       "       Theater on the Lake                    695\n",
       "       Indiana Ave & Roosevelt Rd             659\n",
       "       Clark St & Lincoln Ave                 631\n",
       "       Wells St & Concord Ln                  624\n",
       "May    Streeter Dr & Grand Ave               5177\n",
       "       Lake Shore Dr & Monroe St             2765\n",
       "       Millennium Park                       2185\n",
       "       Michigan Ave & Oak St                 1941\n",
       "       Lake Shore Dr & North Blvd            1763\n",
       "       Shedd Aquarium                        1729\n",
       "       Theater on the Lake                   1290\n",
       "       Clark St & Armitage Ave               1273\n",
       "       Dusable Harbor                        1245\n",
       "       Wells St & Concord Ln                 1244\n",
       "Jun    Streeter Dr & Grand Ave               7492\n",
       "       Lake Shore Dr & North Blvd            3645\n",
       "       Lake Shore Dr & Monroe St             3255\n",
       "       Michigan Ave & Oak St                 3036\n",
       "       Millennium Park                       2872\n",
       "       Theater on the Lake                   2275\n",
       "       Wells St & Concord Ln                 2224\n",
       "       Shedd Aquarium                        2141\n",
       "       Clark St & Lincoln Ave                2083\n",
       "       Clark St & Elm St                     1803\n",
       "Jul    Streeter Dr & Grand Ave               9480\n",
       "       Michigan Ave & Oak St                 4007\n",
       "       Millennium Park                       3834\n",
       "       Lake Shore Dr & North Blvd            3091\n",
       "       Shedd Aquarium                        3040\n",
       "       Theater on the Lake                   2975\n",
       "       Lake Shore Dr & Monroe St             2793\n",
       "       Wells St & Concord Ln                 2666\n",
       "       Clark St & Lincoln Ave                2444\n",
       "       Wells St & Elm St                     2191\n",
       "Aug    Streeter Dr & Grand Ave               7266\n",
       "       DuSable Lake Shore Dr & North Blvd    4112\n",
       "       Michigan Ave & Oak St                 3633\n",
       "       DuSable Lake Shore Dr & Monroe St     3183\n",
       "       Millennium Park                       2979\n",
       "       Theater on the Lake                   2856\n",
       "       Wells St & Concord Ln                 2534\n",
       "       Shedd Aquarium                        2531\n",
       "       Clark St & Lincoln Ave                2253\n",
       "       Wells St & Elm St                     2217\n",
       "Sep    Streeter Dr & Grand Ave               5698\n",
       "       DuSable Lake Shore Dr & North Blvd    2845\n",
       "       Michigan Ave & Oak St                 2597\n",
       "       Millennium Park                       2319\n",
       "       DuSable Lake Shore Dr & Monroe St     2309\n",
       "       Wells St & Concord Ln                 2067\n",
       "       Shedd Aquarium                        1893\n",
       "       Theater on the Lake                   1758\n",
       "       Wells St & Elm St                     1745\n",
       "       Clark St & Lincoln Ave                1674\n",
       "Oct    Streeter Dr & Grand Ave               3249\n",
       "       Millennium Park                       1679\n",
       "       DuSable Lake Shore Dr & Monroe St     1627\n",
       "       Wells St & Concord Ln                 1369\n",
       "       Shedd Aquarium                        1203\n",
       "       Michigan Ave & Oak St                 1153\n",
       "       Clark St & Elm St                     1085\n",
       "       Wells St & Elm St                     1071\n",
       "       Clark St & Armitage Ave               1026\n",
       "       Clark St & Lincoln Ave                1005\n",
       "Nov    Streeter Dr & Grand Ave                876\n",
       "       DuSable Lake Shore Dr & Monroe St      693\n",
       "       Millennium Park                        486\n",
       "       Shedd Aquarium                         467\n",
       "       Clark St & Elm St                      376\n",
       "       Wells St & Concord Ln                  364\n",
       "       Wells St & Elm St                      349\n",
       "       Michigan Ave & Washington St           312\n",
       "       Michigan Ave & Lake St                 308\n",
       "       Wells St & Huron St                    297\n",
       "Dec    DuSable Lake Shore Dr & Monroe St      519\n",
       "       Streeter Dr & Grand Ave                515\n",
       "       Shedd Aquarium                         434\n",
       "       Millennium Park                        350\n",
       "       Wells St & Elm St                      219\n",
       "       Clark St & Elm St                      217\n",
       "       Wells St & Concord Ln                  217\n",
       "       Clark St & Newport St                  210\n",
       "       Columbus Dr & Randolph St              193\n",
       "       Indiana Ave & Roosevelt Rd             193\n",
       "Name: start_station_name, dtype: int64"
      ]
     },
     "execution_count": 29,
     "metadata": {},
     "output_type": "execute_result"
    }
   ],
   "source": [
    "df_1 = df[df['member_casual'] == \"casual\"]\n",
    "pd.set_option('display.max_rows', len(df_1))\n",
    "df_1.groupby('month')['start_station_name'].value_counts().groupby(level=0, group_keys=False).head(10)"
   ]
  },
  {
   "cell_type": "markdown",
   "id": "deeea1b0",
   "metadata": {},
   "source": [
    "Everything looks good thus far, let's export the data frame to build a visualization on Tableau."
   ]
  },
  {
   "cell_type": "code",
   "execution_count": 30,
   "id": "d4b1e8d7",
   "metadata": {},
   "outputs": [],
   "source": [
    "df.to_csv('Python_Clean_Data.csv', index=True)"
   ]
  },
  {
   "cell_type": "markdown",
   "id": "be69efa0",
   "metadata": {},
   "source": [
    "Here's the link to the Tableau dashboard- [Bike Share Visualization](https://public.tableau.com/views/BikeShareAnalysis_16711166827110/BikeShareAnalysis?:language=en-US&:display_count=n&:origin=viz_share_link)\n"
   ]
  }
 ],
 "metadata": {
  "kernelspec": {
   "display_name": "Python 3 (ipykernel)",
   "language": "python",
   "name": "python3"
  },
  "language_info": {
   "codemirror_mode": {
    "name": "ipython",
    "version": 3
   },
   "file_extension": ".py",
   "mimetype": "text/x-python",
   "name": "python",
   "nbconvert_exporter": "python",
   "pygments_lexer": "ipython3",
   "version": "3.11.1"
  }
 },
 "nbformat": 4,
 "nbformat_minor": 5
}
